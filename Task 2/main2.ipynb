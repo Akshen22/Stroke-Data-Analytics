{
  "nbformat": 4,
  "nbformat_minor": 0,
  "metadata": {
    "colab": {
      "provenance": []
    },
    "kernelspec": {
      "name": "python3",
      "display_name": "Python 3"
    },
    "language_info": {
      "name": "python"
    }
  },
  "cells": [
    {
      "cell_type": "code",
      "execution_count": 1,
      "metadata": {
        "id": "wK7fdyiLXo3d"
      },
      "outputs": [],
      "source": [
        "import pandas as pd\n",
        "from load2 import DatasetLoader\n",
        "from eda2 import EDA\n",
        "from ui2 import UserInterfaceCLI\n",
        "from ml_models import MLModels\n",
        "import os"
      ]
    },
    {
      "cell_type": "code",
      "source": [],
      "metadata": {
        "id": "9k4M4KKaeIlY"
      },
      "execution_count": 1,
      "outputs": []
    },
    {
      "cell_type": "code",
      "source": [
        "# Load and clean data\n",
        "loader = DatasetLoader('data.csv')\n",
        "data = loader.load_data()\n",
        "cleaned_data = loader.clean_data()\n",
        "\n",
        "# Inspect data\n",
        "print('Data Info:')\n",
        "print(cleaned_data.info())\n",
        "print('\\nMissing Values:')\n",
        "print(cleaned_data.isnull().sum())"
      ],
      "metadata": {
        "colab": {
          "base_uri": "https://localhost:8080/"
        },
        "id": "CtfA9a4yZTHo",
        "outputId": "c7733127-e158-40a3-b8b1-02f51557bd39"
      },
      "execution_count": 2,
      "outputs": [
        {
          "output_type": "stream",
          "name": "stdout",
          "text": [
            "Dataset loaded successfully.\n",
            "Data cleaned, features computed, and scaled (excluding categorical columns).\n",
            "Data Info:\n",
            "<class 'pandas.core.frame.DataFrame'>\n",
            "RangeIndex: 172000 entries, 0 to 171999\n",
            "Data columns (total 27 columns):\n",
            " #   Column                    Non-Null Count   Dtype  \n",
            "---  ------                    --------------   -----  \n",
            " 0   ID                        172000 non-null  float64\n",
            " 1   Age                       172000 non-null  float64\n",
            " 2   Gender                    172000 non-null  float64\n",
            " 3   Hypertension              172000 non-null  int64  \n",
            " 4   Heart Disease             172000 non-null  int64  \n",
            " 5   Ever Married              172000 non-null  int64  \n",
            " 6   Work Type                 172000 non-null  int64  \n",
            " 7   Residence Type            172000 non-null  int64  \n",
            " 8   Average Glucose Level     172000 non-null  float64\n",
            " 9   BMI                       172000 non-null  float64\n",
            " 10  Smoking Status            172000 non-null  int64  \n",
            " 11  Physical Activity         172000 non-null  int64  \n",
            " 12  Dietary Habits            172000 non-null  int64  \n",
            " 13  Alcohol Consumption       172000 non-null  int64  \n",
            " 14  Chronic Stress            172000 non-null  int64  \n",
            " 15  Sleep Hours               172000 non-null  float64\n",
            " 16  Family History of Stroke  172000 non-null  int64  \n",
            " 17  Education Level           172000 non-null  int64  \n",
            " 18  Income Level              172000 non-null  int64  \n",
            " 19  Stroke Risk Score         172000 non-null  float64\n",
            " 20  Region                    172000 non-null  int64  \n",
            " 21  Stroke Occurrence         172000 non-null  int64  \n",
            " 22  Cardiovascular_Condition  172000 non-null  int64  \n",
            " 23  BMI_Category              172000 non-null  int64  \n",
            " 24  High_Glucose_Risk         172000 non-null  int64  \n",
            " 25  Activity_Age_Interaction  172000 non-null  float64\n",
            " 26  Sleep_Activity_Ratio      172000 non-null  float64\n",
            "dtypes: float64(9), int64(18)\n",
            "memory usage: 35.4 MB\n",
            "None\n",
            "\n",
            "Missing Values:\n",
            "ID                          0\n",
            "Age                         0\n",
            "Gender                      0\n",
            "Hypertension                0\n",
            "Heart Disease               0\n",
            "Ever Married                0\n",
            "Work Type                   0\n",
            "Residence Type              0\n",
            "Average Glucose Level       0\n",
            "BMI                         0\n",
            "Smoking Status              0\n",
            "Physical Activity           0\n",
            "Dietary Habits              0\n",
            "Alcohol Consumption         0\n",
            "Chronic Stress              0\n",
            "Sleep Hours                 0\n",
            "Family History of Stroke    0\n",
            "Education Level             0\n",
            "Income Level                0\n",
            "Stroke Risk Score           0\n",
            "Region                      0\n",
            "Stroke Occurrence           0\n",
            "Cardiovascular_Condition    0\n",
            "BMI_Category                0\n",
            "High_Glucose_Risk           0\n",
            "Activity_Age_Interaction    0\n",
            "Sleep_Activity_Ratio        0\n",
            "dtype: int64\n"
          ]
        }
      ]
    },
    {
      "cell_type": "code",
      "source": [
        "print(cleaned_data.describe(include='all'))"
      ],
      "metadata": {
        "colab": {
          "base_uri": "https://localhost:8080/"
        },
        "id": "e8BtTB3zeMUc",
        "outputId": "6478c68a-2d16-4cb1-cc61-a171a62a3c61"
      },
      "execution_count": 3,
      "outputs": [
        {
          "output_type": "stream",
          "name": "stdout",
          "text": [
            "                 ID           Age        Gender   Hypertension  Heart Disease  \\\n",
            "count  1.720000e+05  1.720000e+05  1.720000e+05  172000.000000  172000.000000   \n",
            "mean   1.057552e-17  8.030785e-17  5.056420e-17       0.150134       0.100279   \n",
            "std    1.000003e+00  1.000003e+00  1.000003e+00       0.357203       0.300373   \n",
            "min   -1.732041e+00 -1.708546e+00 -9.809222e-01       0.000000       0.000000   \n",
            "25%   -8.660204e-01 -8.545062e-01 -9.809222e-01       0.000000       0.000000   \n",
            "50%    0.000000e+00 -4.661911e-04  7.696341e-01       0.000000       0.000000   \n",
            "75%    8.660204e-01  8.535738e-01  7.696341e-01       0.000000       0.000000   \n",
            "max    1.732041e+00  1.707614e+00  2.520190e+00       1.000000       1.000000   \n",
            "\n",
            "        Ever Married      Work Type  Residence Type  Average Glucose Level  \\\n",
            "count  172000.000000  172000.000000   172000.000000           1.720000e+05   \n",
            "mean        0.300965       2.600151        0.500459           5.328244e-16   \n",
            "std         0.458679       1.200596        0.500001           1.000003e+00   \n",
            "min         0.000000       0.000000        0.000000          -1.733140e+00   \n",
            "25%         0.000000       2.000000        0.000000          -8.654483e-01   \n",
            "50%         0.000000       3.000000        1.000000          -2.582644e-03   \n",
            "75%         1.000000       3.000000        1.000000           8.672197e-01   \n",
            "max         1.000000       4.000000        1.000000           1.735213e+00   \n",
            "\n",
            "                BMI  ...  Education Level   Income Level  Stroke Risk Score  \\\n",
            "count  1.720000e+05  ...    172000.000000  172000.000000       1.720000e+05   \n",
            "mean   3.581631e-17  ...         1.700488       1.099529      -4.804426e-17   \n",
            "std    1.000003e+00  ...         0.899332       0.699517       1.000003e+00   \n",
            "min   -1.729667e+00  ...         0.000000       0.000000      -1.716533e+00   \n",
            "25%   -8.653864e-01  ...         1.000000       1.000000      -8.516777e-01   \n",
            "50%   -1.106228e-03  ...         2.000000       1.000000       1.317778e-02   \n",
            "75%    8.718167e-01  ...         2.000000       2.000000       8.780333e-01   \n",
            "max    1.727454e+00  ...         3.000000       2.000000       1.708295e+00   \n",
            "\n",
            "              Region  Stroke Occurrence  Cardiovascular_Condition  \\\n",
            "count  172000.000000      172000.000000             172000.000000   \n",
            "mean        1.497349           0.099395                  0.235128   \n",
            "std         1.117868           0.299193                  0.424080   \n",
            "min         0.000000           0.000000                  0.000000   \n",
            "25%         0.000000           0.000000                  0.000000   \n",
            "50%         1.000000           0.000000                  0.000000   \n",
            "75%         2.000000           0.000000                  0.000000   \n",
            "max         3.000000           1.000000                  1.000000   \n",
            "\n",
            "        BMI_Category  High_Glucose_Risk  Activity_Age_Interaction  \\\n",
            "count  172000.000000      172000.000000              1.720000e+05   \n",
            "mean        1.392884           0.434203             -2.809122e-17   \n",
            "std         0.995447           0.495653              1.000003e+00   \n",
            "min         0.000000           0.000000             -1.416866e+00   \n",
            "25%         1.000000           0.000000             -7.282957e-01   \n",
            "50%         1.000000           0.000000             -2.600679e-01   \n",
            "75%         2.000000           1.000000              7.314734e-01   \n",
            "max         3.000000           1.000000              2.301414e+00   \n",
            "\n",
            "       Sleep_Activity_Ratio  \n",
            "count          1.720000e+05  \n",
            "mean          -1.173222e-17  \n",
            "std            1.000003e+00  \n",
            "min           -1.111738e+00  \n",
            "25%           -6.813646e-01  \n",
            "50%           -2.901156e-01  \n",
            "75%            4.141325e-01  \n",
            "max            4.170122e+00  \n",
            "\n",
            "[8 rows x 27 columns]\n"
          ]
        }
      ]
    },
    {
      "cell_type": "code",
      "source": [],
      "metadata": {
        "id": "R8Ab-u6aAzD0"
      },
      "execution_count": 3,
      "outputs": []
    },
    {
      "cell_type": "code",
      "source": [
        "# Perform EDA\n",
        "eda = EDA(cleaned_data)\n",
        "stats = eda.descriptive_statistics()\n",
        "print('Descriptive Statistics:')\n",
        "print(stats)"
      ],
      "metadata": {
        "id": "0KR_NvkuZTLK",
        "colab": {
          "base_uri": "https://localhost:8080/"
        },
        "outputId": "742fd230-8fb6-498b-e4bf-3c6b991cf609"
      },
      "execution_count": 4,
      "outputs": [
        {
          "output_type": "stream",
          "name": "stdout",
          "text": [
            "Descriptive Statistics:\n",
            "                 ID           Age        Gender   Hypertension  Heart Disease  \\\n",
            "count  1.720000e+05  1.720000e+05  1.720000e+05  172000.000000  172000.000000   \n",
            "mean   1.057552e-17  8.030785e-17  5.056420e-17       0.150134       0.100279   \n",
            "std    1.000003e+00  1.000003e+00  1.000003e+00       0.357203       0.300373   \n",
            "min   -1.732041e+00 -1.708546e+00 -9.809222e-01       0.000000       0.000000   \n",
            "25%   -8.660204e-01 -8.545062e-01 -9.809222e-01       0.000000       0.000000   \n",
            "50%    0.000000e+00 -4.661911e-04  7.696341e-01       0.000000       0.000000   \n",
            "75%    8.660204e-01  8.535738e-01  7.696341e-01       0.000000       0.000000   \n",
            "max    1.732041e+00  1.707614e+00  2.520190e+00       1.000000       1.000000   \n",
            "\n",
            "        Ever Married      Work Type  Residence Type  Average Glucose Level  \\\n",
            "count  172000.000000  172000.000000   172000.000000           1.720000e+05   \n",
            "mean        0.300965       2.600151        0.500459           5.328244e-16   \n",
            "std         0.458679       1.200596        0.500001           1.000003e+00   \n",
            "min         0.000000       0.000000        0.000000          -1.733140e+00   \n",
            "25%         0.000000       2.000000        0.000000          -8.654483e-01   \n",
            "50%         0.000000       3.000000        1.000000          -2.582644e-03   \n",
            "75%         1.000000       3.000000        1.000000           8.672197e-01   \n",
            "max         1.000000       4.000000        1.000000           1.735213e+00   \n",
            "\n",
            "                BMI  ...  Education Level   Income Level  Stroke Risk Score  \\\n",
            "count  1.720000e+05  ...    172000.000000  172000.000000       1.720000e+05   \n",
            "mean   3.581631e-17  ...         1.700488       1.099529      -4.804426e-17   \n",
            "std    1.000003e+00  ...         0.899332       0.699517       1.000003e+00   \n",
            "min   -1.729667e+00  ...         0.000000       0.000000      -1.716533e+00   \n",
            "25%   -8.653864e-01  ...         1.000000       1.000000      -8.516777e-01   \n",
            "50%   -1.106228e-03  ...         2.000000       1.000000       1.317778e-02   \n",
            "75%    8.718167e-01  ...         2.000000       2.000000       8.780333e-01   \n",
            "max    1.727454e+00  ...         3.000000       2.000000       1.708295e+00   \n",
            "\n",
            "              Region  Stroke Occurrence  Cardiovascular_Condition  \\\n",
            "count  172000.000000      172000.000000             172000.000000   \n",
            "mean        1.497349           0.099395                  0.235128   \n",
            "std         1.117868           0.299193                  0.424080   \n",
            "min         0.000000           0.000000                  0.000000   \n",
            "25%         0.000000           0.000000                  0.000000   \n",
            "50%         1.000000           0.000000                  0.000000   \n",
            "75%         2.000000           0.000000                  0.000000   \n",
            "max         3.000000           1.000000                  1.000000   \n",
            "\n",
            "        BMI_Category  High_Glucose_Risk  Activity_Age_Interaction  \\\n",
            "count  172000.000000      172000.000000              1.720000e+05   \n",
            "mean        1.392884           0.434203             -2.809122e-17   \n",
            "std         0.995447           0.495653              1.000003e+00   \n",
            "min         0.000000           0.000000             -1.416866e+00   \n",
            "25%         1.000000           0.000000             -7.282957e-01   \n",
            "50%         1.000000           0.000000             -2.600679e-01   \n",
            "75%         2.000000           1.000000              7.314734e-01   \n",
            "max         3.000000           1.000000              2.301414e+00   \n",
            "\n",
            "       Sleep_Activity_Ratio  \n",
            "count          1.720000e+05  \n",
            "mean          -1.173222e-17  \n",
            "std            1.000003e+00  \n",
            "min           -1.111738e+00  \n",
            "25%           -6.813646e-01  \n",
            "50%           -2.901156e-01  \n",
            "75%            4.141325e-01  \n",
            "max            4.170122e+00  \n",
            "\n",
            "[8 rows x 27 columns]\n"
          ]
        }
      ]
    },
    {
      "cell_type": "code",
      "source": [
        "# Generate plots for key features\n",
        "eda.plot_distribution('Age', 'histogram')\n",
        "eda.plot_distribution('BMI', 'histogram')\n",
        "eda.plot_distribution('Stroke Occurrence', 'bar')\n",
        "balanced_data = eda.check_class_balance('Stroke Occurrence')"
      ],
      "metadata": {
        "id": "AUvLtUy1ZTSi",
        "colab": {
          "base_uri": "https://localhost:8080/"
        },
        "outputId": "e92a875d-4ea7-407b-9b21-737d16e98f0c"
      },
      "execution_count": 5,
      "outputs": [
        {
          "output_type": "stream",
          "name": "stdout",
          "text": [
            "Class distribution for Stroke Occurrence (before SMOTE):\n",
            "Stroke Occurrence\n",
            "0    154904\n",
            "1     17096\n",
            "Name: count, dtype: int64\n",
            "Applying SMOTE to balance Stroke Occurrence classes.\n",
            "Balanced class distribution for Stroke Occurrence (after SMOTE):\n",
            "Stroke Occurrence\n",
            "0    154904\n",
            "1    154904\n",
            "Name: count, dtype: int64\n"
          ]
        }
      ]
    },
    {
      "cell_type": "code",
      "source": [],
      "metadata": {
        "id": "TnvFuEDHA2ER"
      },
      "execution_count": 5,
      "outputs": []
    },
    {
      "cell_type": "code",
      "source": [
        "# Train and evaluate models for each target\n",
        "targets = ['Chronic Stress', 'Physical Activity', 'Income Level', 'Stroke Occurrence']\n",
        "for i, target in enumerate(targets):\n",
        "    X_train, X_test, y_train, y_test = loader.split_data(target_column=target)\n",
        "    if X_train is not None:\n",
        "        if i > 0:  # Add newline before each target except the first\n",
        "            print()\n",
        "        ml = MLModels(X_train, X_test, y_train, y_test)\n",
        "        ml.train_and_evaluate(target)\n",
        "        comparison = ml.plot_model_comparison(target)\n",
        "        print(f'Model Performance for {target}:')\n",
        "        print(comparison)"
      ],
      "metadata": {
        "id": "PUfNVLv6dSDB",
        "colab": {
          "base_uri": "https://localhost:8080/",
          "height": 783
        },
        "outputId": "28a1665a-9f3d-40a2-e2fb-ea769c7fb8b2"
      },
      "execution_count": 6,
      "outputs": [
        {
          "output_type": "stream",
          "name": "stdout",
          "text": [
            "Confusion matrix saved at: plots/Naive Bayes_Chronic Stress_confusion_matrix.png\n",
            "Confusion matrix saved at: plots/Random Forest_Chronic Stress_confusion_matrix.png\n",
            "Confusion matrix saved at: plots/XGBoost_Chronic Stress_confusion_matrix.png\n",
            "Model comparison plot saved at: plots/Chronic Stress_model_comparison.png\n",
            "Model Performance for Chronic Stress:\n",
            "               Accuracy  Precision    Recall\n",
            "Naive Bayes    0.751134   0.564202  0.751134\n",
            "Random Forest  0.751134   0.564202  0.751134\n",
            "XGBoost        0.749797   0.632575  0.749797\n",
            "\n",
            "Confusion matrix saved at: plots/Naive Bayes_Physical Activity_confusion_matrix.png\n",
            "Confusion matrix saved at: plots/Random Forest_Physical Activity_confusion_matrix.png\n",
            "Confusion matrix saved at: plots/XGBoost_Physical Activity_confusion_matrix.png\n",
            "Model comparison plot saved at: plots/Physical Activity_model_comparison.png\n",
            "Model Performance for Physical Activity:\n",
            "               Accuracy  Precision    Recall\n",
            "Naive Bayes    0.400058   0.278640  0.400058\n",
            "Random Forest  0.400087   0.321757  0.400087\n",
            "XGBoost        0.388430   0.298196  0.388430\n",
            "\n",
            "Confusion matrix saved at: plots/Naive Bayes_Income Level_confusion_matrix.png\n",
            "Confusion matrix saved at: plots/Random Forest_Income Level_confusion_matrix.png\n",
            "Confusion matrix saved at: plots/XGBoost_Income Level_confusion_matrix.png\n",
            "Model comparison plot saved at: plots/Income Level_model_comparison.png\n",
            "Model Performance for Income Level:\n",
            "               Accuracy  Precision    Recall\n",
            "Naive Bayes    0.497413   0.247419  0.497413\n",
            "Random Forest  0.497413   0.247419  0.497413\n",
            "XGBoost        0.491628   0.378292  0.491628\n",
            "\n",
            "Confusion matrix saved at: plots/Naive Bayes_Stroke Occurrence_confusion_matrix.png\n",
            "Confusion matrix saved at: plots/Random Forest_Stroke Occurrence_confusion_matrix.png\n",
            "Confusion matrix saved at: plots/XGBoost_Stroke Occurrence_confusion_matrix.png\n",
            "Model comparison plot saved at: plots/Stroke Occurrence_model_comparison.png\n",
            "Model Performance for Stroke Occurrence:\n",
            "               Accuracy  Precision    Recall\n",
            "Naive Bayes    0.898576   0.807438  0.898576\n",
            "Random Forest  0.898576   0.807438  0.898576\n",
            "XGBoost        0.898547   0.807435  0.898547\n"
          ]
        },
        {
          "output_type": "display_data",
          "data": {
            "text/plain": [
              "<Figure size 1000x600 with 0 Axes>"
            ]
          },
          "metadata": {}
        },
        {
          "output_type": "display_data",
          "data": {
            "text/plain": [
              "<Figure size 1000x600 with 0 Axes>"
            ]
          },
          "metadata": {}
        },
        {
          "output_type": "display_data",
          "data": {
            "text/plain": [
              "<Figure size 1000x600 with 0 Axes>"
            ]
          },
          "metadata": {}
        },
        {
          "output_type": "display_data",
          "data": {
            "text/plain": [
              "<Figure size 1000x600 with 0 Axes>"
            ]
          },
          "metadata": {}
        }
      ]
    },
    {
      "cell_type": "code",
      "source": [],
      "metadata": {
        "id": "UT7hLKcBA7VT"
      },
      "execution_count": 6,
      "outputs": []
    },
    {
      "cell_type": "code",
      "source": [
        "# Run CLI\n",
        "ui = UserInterfaceCLI(loader, eda)\n",
        "ui.run()"
      ],
      "metadata": {
        "id": "yo00Z1UCZTb0",
        "colab": {
          "base_uri": "https://localhost:8080/"
        },
        "outputId": "4a7ec1fa-5fda-4a95-fe6b-fd0c04e3b5bb"
      },
      "execution_count": 7,
      "outputs": [
        {
          "output_type": "stream",
          "name": "stdout",
          "text": [
            "\n",
            "=== Stroke Data Analytics System ===\n",
            "1. Load and Clean Dataset\n",
            "2. Perform Exploratory Data Analysis (EDA)\n",
            "3. Exit\n",
            "===================================\n",
            "Enter your choice (1-3): 1\n",
            "Dataset loaded successfully.\n",
            "Data cleaned, features computed, and scaled (excluding categorical columns).\n",
            "Dataset loaded and cleaned successfully.\n",
            "\n",
            "=== Stroke Data Analytics System ===\n",
            "1. Load and Clean Dataset\n",
            "2. Perform Exploratory Data Analysis (EDA)\n",
            "3. Exit\n",
            "===================================\n",
            "Enter your choice (1-3): 2\n",
            "Class distribution for Stroke Occurrence (before SMOTE):\n",
            "Stroke Occurrence\n",
            "0    154904\n",
            "1     17096\n",
            "Name: count, dtype: int64\n",
            "Applying SMOTE to balance Stroke Occurrence classes.\n",
            "Balanced class distribution for Stroke Occurrence (after SMOTE):\n",
            "Stroke Occurrence\n",
            "0    154904\n",
            "1    154904\n",
            "Name: count, dtype: int64\n",
            "EDA completed. Plots saved in 'plots/' folder.\n",
            "\n",
            "Descriptive Statistics:\n",
            "                 ID           Age        Gender   Hypertension  Heart Disease  \\\n",
            "count  1.720000e+05  1.720000e+05  1.720000e+05  172000.000000  172000.000000   \n",
            "mean   1.057552e-17  8.030785e-17  5.056420e-17       0.150134       0.100279   \n",
            "std    1.000003e+00  1.000003e+00  1.000003e+00       0.357203       0.300373   \n",
            "min   -1.732041e+00 -1.708546e+00 -9.809222e-01       0.000000       0.000000   \n",
            "25%   -8.660204e-01 -8.545062e-01 -9.809222e-01       0.000000       0.000000   \n",
            "50%    0.000000e+00 -4.661911e-04  7.696341e-01       0.000000       0.000000   \n",
            "75%    8.660204e-01  8.535738e-01  7.696341e-01       0.000000       0.000000   \n",
            "max    1.732041e+00  1.707614e+00  2.520190e+00       1.000000       1.000000   \n",
            "\n",
            "        Ever Married      Work Type  Residence Type  Average Glucose Level  \\\n",
            "count  172000.000000  172000.000000   172000.000000           1.720000e+05   \n",
            "mean        0.300965       2.600151        0.500459           5.328244e-16   \n",
            "std         0.458679       1.200596        0.500001           1.000003e+00   \n",
            "min         0.000000       0.000000        0.000000          -1.733140e+00   \n",
            "25%         0.000000       2.000000        0.000000          -8.654483e-01   \n",
            "50%         0.000000       3.000000        1.000000          -2.582644e-03   \n",
            "75%         1.000000       3.000000        1.000000           8.672197e-01   \n",
            "max         1.000000       4.000000        1.000000           1.735213e+00   \n",
            "\n",
            "                BMI  ...  Education Level   Income Level  Stroke Risk Score  \\\n",
            "count  1.720000e+05  ...    172000.000000  172000.000000       1.720000e+05   \n",
            "mean   3.581631e-17  ...         1.700488       1.099529      -4.804426e-17   \n",
            "std    1.000003e+00  ...         0.899332       0.699517       1.000003e+00   \n",
            "min   -1.729667e+00  ...         0.000000       0.000000      -1.716533e+00   \n",
            "25%   -8.653864e-01  ...         1.000000       1.000000      -8.516777e-01   \n",
            "50%   -1.106228e-03  ...         2.000000       1.000000       1.317778e-02   \n",
            "75%    8.718167e-01  ...         2.000000       2.000000       8.780333e-01   \n",
            "max    1.727454e+00  ...         3.000000       2.000000       1.708295e+00   \n",
            "\n",
            "              Region  Stroke Occurrence  Cardiovascular_Condition  \\\n",
            "count  172000.000000      172000.000000             172000.000000   \n",
            "mean        1.497349           0.099395                  0.235128   \n",
            "std         1.117868           0.299193                  0.424080   \n",
            "min         0.000000           0.000000                  0.000000   \n",
            "25%         0.000000           0.000000                  0.000000   \n",
            "50%         1.000000           0.000000                  0.000000   \n",
            "75%         2.000000           0.000000                  0.000000   \n",
            "max         3.000000           1.000000                  1.000000   \n",
            "\n",
            "        BMI_Category  High_Glucose_Risk  Activity_Age_Interaction  \\\n",
            "count  172000.000000      172000.000000              1.720000e+05   \n",
            "mean        1.392884           0.434203             -2.809122e-17   \n",
            "std         0.995447           0.495653              1.000003e+00   \n",
            "min         0.000000           0.000000             -1.416866e+00   \n",
            "25%         1.000000           0.000000             -7.282957e-01   \n",
            "50%         1.000000           0.000000             -2.600679e-01   \n",
            "75%         2.000000           1.000000              7.314734e-01   \n",
            "max         3.000000           1.000000              2.301414e+00   \n",
            "\n",
            "       Sleep_Activity_Ratio  \n",
            "count          1.720000e+05  \n",
            "mean          -1.173222e-17  \n",
            "std            1.000003e+00  \n",
            "min           -1.111738e+00  \n",
            "25%           -6.813646e-01  \n",
            "50%           -2.901156e-01  \n",
            "75%            4.141325e-01  \n",
            "max            4.170122e+00  \n",
            "\n",
            "[8 rows x 27 columns]\n",
            "\n",
            "=== Stroke Data Analytics System ===\n",
            "1. Load and Clean Dataset\n",
            "2. Perform Exploratory Data Analysis (EDA)\n",
            "3. Exit\n",
            "===================================\n",
            "Enter your choice (1-3): 3\n",
            "Exiting the system. Goodbye!\n"
          ]
        }
      ]
    },
    {
      "cell_type": "code",
      "source": [],
      "metadata": {
        "id": "hn_eWL7hZTlT"
      },
      "execution_count": null,
      "outputs": []
    }
  ]
}